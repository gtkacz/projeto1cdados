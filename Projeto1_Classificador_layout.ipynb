{
 "cells": [
  {
   "cell_type": "markdown",
   "metadata": {},
   "source": [
    "# Projeto 1 - Ciência dos Dados"
   ]
  },
  {
   "cell_type": "markdown",
   "metadata": {},
   "source": [
    "Nome: _____\n",
    "\n",
    "Nome: _____"
   ]
  },
  {
   "cell_type": "markdown",
   "metadata": {},
   "source": [
    "Atenção: Serão permitidos grupos de três pessoas, mas com uma rubrica mais exigente. Grupos deste tamanho precisarão fazer um questionário de avaliação de trabalho em equipe"
   ]
  },
  {
   "cell_type": "markdown",
   "metadata": {},
   "source": [
    "___\n",
    "Carregando algumas bibliotecas:"
   ]
  },
  {
   "cell_type": "code",
   "execution_count": 78,
   "metadata": {},
   "outputs": [],
   "source": [
    "%matplotlib inline\n",
    "import pandas as pd\n",
    "import matplotlib.pyplot as plt\n",
    "import numpy as np\n",
    "import os\n",
    "from IPython.display import display\n",
    "pd.options.display.max_rows = 13"
   ]
  },
  {
   "cell_type": "code",
   "execution_count": 79,
   "metadata": {
    "scrolled": false
   },
   "outputs": [
    {
     "name": "stdout",
     "output_type": "stream",
     "text": [
      "Esperamos trabalhar no diretório\n",
      "C:\\Users\\guilh\\Desktop\\projeto1cdados\n"
     ]
    }
   ],
   "source": [
    "print('Esperamos trabalhar no diretório')\n",
    "print(os.getcwd())"
   ]
  },
  {
   "cell_type": "code",
   "execution_count": 237,
   "metadata": {},
   "outputs": [],
   "source": [
    "import re \n",
    "\n",
    "\n",
    "def cleanup(text):\n",
    "    \"\"\"\n",
    "        Função de limpeza muito simples que troca alguns sinais básicos por espaços\n",
    "    \"\"\"\n",
    "    #import string\n",
    "    punctuation = '[!-.:?;]' # Note que os sinais [] são delimitadores de um conjunto.\n",
    "    pattern = re.compile(punctuation)\n",
    "    text_subbed1 = re.sub(r\"http\\S+\", \"\", text)\n",
    "    text_subbed = re.sub(pattern, ' ', text_subbed1)\n",
    "    return text_subbed\n"
   ]
  },
  {
   "cell_type": "markdown",
   "metadata": {},
   "source": [
    "Carregando a base de dados com os tweets classificados como relevantes e não relevantes:"
   ]
  },
  {
   "cell_type": "code",
   "execution_count": 238,
   "metadata": {},
   "outputs": [
    {
     "data": {
      "text/html": [
       "<div>\n",
       "<style scoped>\n",
       "    .dataframe tbody tr th:only-of-type {\n",
       "        vertical-align: middle;\n",
       "    }\n",
       "\n",
       "    .dataframe tbody tr th {\n",
       "        vertical-align: top;\n",
       "    }\n",
       "\n",
       "    .dataframe thead th {\n",
       "        text-align: right;\n",
       "    }\n",
       "</style>\n",
       "<table border=\"1\" class=\"dataframe\">\n",
       "  <thead>\n",
       "    <tr style=\"text-align: right;\">\n",
       "      <th></th>\n",
       "      <th>Treinamento</th>\n",
       "      <th>classificação</th>\n",
       "    </tr>\n",
       "  </thead>\n",
       "  <tbody>\n",
       "    <tr>\n",
       "      <td>0</td>\n",
       "      <td>@jaum_lealf @cecbreno @nubank amigo que triste...</td>\n",
       "      <td>0</td>\n",
       "    </tr>\n",
       "    <tr>\n",
       "      <td>1</td>\n",
       "      <td>@oandrevinic aaaah, que notícia boa!\\n\\nconta ...</td>\n",
       "      <td>0</td>\n",
       "    </tr>\n",
       "    <tr>\n",
       "      <td>2</td>\n",
       "      <td>quando o nubank vai liberar a minha função cré...</td>\n",
       "      <td>0</td>\n",
       "    </tr>\n",
       "    <tr>\n",
       "      <td>3</td>\n",
       "      <td>@catundabruno @nubank eu vou cancelar. não hou...</td>\n",
       "      <td>0</td>\n",
       "    </tr>\n",
       "    <tr>\n",
       "      <td>4</td>\n",
       "      <td>nubank aumentou meu limite, to fudida 🥺😭😂</td>\n",
       "      <td>0</td>\n",
       "    </tr>\n",
       "    <tr>\n",
       "      <td>...</td>\n",
       "      <td>...</td>\n",
       "      <td>...</td>\n",
       "    </tr>\n",
       "    <tr>\n",
       "      <td>295</td>\n",
       "      <td>se tem uma coisa que eu amo é meu cartão nuban...</td>\n",
       "      <td>0</td>\n",
       "    </tr>\n",
       "    <tr>\n",
       "      <td>296</td>\n",
       "      <td>rt @wjucollection: 🌱 itzy\\n\\nalbum it’z icy: f...</td>\n",
       "      <td>0</td>\n",
       "    </tr>\n",
       "    <tr>\n",
       "      <td>297</td>\n",
       "      <td>aff meu nubank novo é mt lindo</td>\n",
       "      <td>1</td>\n",
       "    </tr>\n",
       "    <tr>\n",
       "      <td>298</td>\n",
       "      <td>olhei o dólar canadense hoje e tá r$ 3,39 e ta...</td>\n",
       "      <td>0</td>\n",
       "    </tr>\n",
       "    <tr>\n",
       "      <td>299</td>\n",
       "      <td>@nubank o que custa me aceitar no crédito? htt...</td>\n",
       "      <td>1</td>\n",
       "    </tr>\n",
       "  </tbody>\n",
       "</table>\n",
       "<p>300 rows × 2 columns</p>\n",
       "</div>"
      ],
      "text/plain": [
       "                                           Treinamento  classificação\n",
       "0    @jaum_lealf @cecbreno @nubank amigo que triste...              0\n",
       "1    @oandrevinic aaaah, que notícia boa!\\n\\nconta ...              0\n",
       "2    quando o nubank vai liberar a minha função cré...              0\n",
       "3    @catundabruno @nubank eu vou cancelar. não hou...              0\n",
       "4            nubank aumentou meu limite, to fudida 🥺😭😂              0\n",
       "..                                                 ...            ...\n",
       "295  se tem uma coisa que eu amo é meu cartão nuban...              0\n",
       "296  rt @wjucollection: 🌱 itzy\\n\\nalbum it’z icy: f...              0\n",
       "297                     aff meu nubank novo é mt lindo              1\n",
       "298  olhei o dólar canadense hoje e tá r$ 3,39 e ta...              0\n",
       "299  @nubank o que custa me aceitar no crédito? htt...              1\n",
       "\n",
       "[300 rows x 2 columns]"
      ]
     },
     "execution_count": 238,
     "metadata": {},
     "output_type": "execute_result"
    }
   ],
   "source": [
    "dados = pd.read_excel('NuBank.xlsx')\n",
    "dados"
   ]
  },
  {
   "cell_type": "markdown",
   "metadata": {},
   "source": [
    "___\n",
    "## Classificador automático de sentimento\n"
   ]
  },
  {
   "cell_type": "markdown",
   "metadata": {},
   "source": [
    "Faça aqui uma descrição do seu produto e o que considerou como relevante ou não relevante na classificação dos tweets.\n",
    "\n",
    "ESCREVA AQUI...\n"
   ]
  },
  {
   "cell_type": "markdown",
   "metadata": {},
   "source": [
    "___\n",
    "### Montando um Classificador Naive-Bayes\n",
    "\n",
    "Considerando apenas as mensagens da planilha Treinamento, ensine  seu classificador."
   ]
  },
  {
   "cell_type": "code",
   "execution_count": 239,
   "metadata": {},
   "outputs": [
    {
     "data": {
      "text/html": [
       "<div>\n",
       "<style scoped>\n",
       "    .dataframe tbody tr th:only-of-type {\n",
       "        vertical-align: middle;\n",
       "    }\n",
       "\n",
       "    .dataframe tbody tr th {\n",
       "        vertical-align: top;\n",
       "    }\n",
       "\n",
       "    .dataframe thead th {\n",
       "        text-align: right;\n",
       "    }\n",
       "</style>\n",
       "<table border=\"1\" class=\"dataframe\">\n",
       "  <thead>\n",
       "    <tr style=\"text-align: right;\">\n",
       "      <th></th>\n",
       "      <th>Treinamento</th>\n",
       "      <th>classificação</th>\n",
       "    </tr>\n",
       "  </thead>\n",
       "  <tbody>\n",
       "    <tr>\n",
       "      <td>0</td>\n",
       "      <td>@jaum_lealf @cecbreno @nubank amigo que triste...</td>\n",
       "      <td>irrelevante</td>\n",
       "    </tr>\n",
       "    <tr>\n",
       "      <td>1</td>\n",
       "      <td>@oandrevinic aaaah, que notícia boa!\\n\\nconta ...</td>\n",
       "      <td>irrelevante</td>\n",
       "    </tr>\n",
       "    <tr>\n",
       "      <td>2</td>\n",
       "      <td>quando o nubank vai liberar a minha função cré...</td>\n",
       "      <td>irrelevante</td>\n",
       "    </tr>\n",
       "    <tr>\n",
       "      <td>3</td>\n",
       "      <td>@catundabruno @nubank eu vou cancelar. não hou...</td>\n",
       "      <td>irrelevante</td>\n",
       "    </tr>\n",
       "    <tr>\n",
       "      <td>4</td>\n",
       "      <td>nubank aumentou meu limite, to fudida 🥺😭😂</td>\n",
       "      <td>irrelevante</td>\n",
       "    </tr>\n",
       "    <tr>\n",
       "      <td>...</td>\n",
       "      <td>...</td>\n",
       "      <td>...</td>\n",
       "    </tr>\n",
       "    <tr>\n",
       "      <td>295</td>\n",
       "      <td>se tem uma coisa que eu amo é meu cartão nuban...</td>\n",
       "      <td>irrelevante</td>\n",
       "    </tr>\n",
       "    <tr>\n",
       "      <td>296</td>\n",
       "      <td>rt @wjucollection: 🌱 itzy\\n\\nalbum it’z icy: f...</td>\n",
       "      <td>irrelevante</td>\n",
       "    </tr>\n",
       "    <tr>\n",
       "      <td>297</td>\n",
       "      <td>aff meu nubank novo é mt lindo</td>\n",
       "      <td>relevante</td>\n",
       "    </tr>\n",
       "    <tr>\n",
       "      <td>298</td>\n",
       "      <td>olhei o dólar canadense hoje e tá r$ 3,39 e ta...</td>\n",
       "      <td>irrelevante</td>\n",
       "    </tr>\n",
       "    <tr>\n",
       "      <td>299</td>\n",
       "      <td>@nubank o que custa me aceitar no crédito? htt...</td>\n",
       "      <td>relevante</td>\n",
       "    </tr>\n",
       "  </tbody>\n",
       "</table>\n",
       "<p>300 rows × 2 columns</p>\n",
       "</div>"
      ],
      "text/plain": [
       "                                           Treinamento classificação\n",
       "0    @jaum_lealf @cecbreno @nubank amigo que triste...   irrelevante\n",
       "1    @oandrevinic aaaah, que notícia boa!\\n\\nconta ...   irrelevante\n",
       "2    quando o nubank vai liberar a minha função cré...   irrelevante\n",
       "3    @catundabruno @nubank eu vou cancelar. não hou...   irrelevante\n",
       "4            nubank aumentou meu limite, to fudida 🥺😭😂   irrelevante\n",
       "..                                                 ...           ...\n",
       "295  se tem uma coisa que eu amo é meu cartão nuban...   irrelevante\n",
       "296  rt @wjucollection: 🌱 itzy\\n\\nalbum it’z icy: f...   irrelevante\n",
       "297                     aff meu nubank novo é mt lindo     relevante\n",
       "298  olhei o dólar canadense hoje e tá r$ 3,39 e ta...   irrelevante\n",
       "299  @nubank o que custa me aceitar no crédito? htt...     relevante\n",
       "\n",
       "[300 rows x 2 columns]"
      ]
     },
     "execution_count": 239,
     "metadata": {},
     "output_type": "execute_result"
    }
   ],
   "source": [
    "#definindo variavel categorica\n",
    "dados.loc[:,'classificação'] = dados['classificação'].astype('category')\n",
    "dados['classificação'].cat.categories = [\"irrelevante\", \"relevante\"]\n",
    "dados"
   ]
  },
  {
   "cell_type": "code",
   "execution_count": 240,
   "metadata": {},
   "outputs": [
    {
     "data": {
      "text/html": [
       "<div>\n",
       "<style scoped>\n",
       "    .dataframe tbody tr th:only-of-type {\n",
       "        vertical-align: middle;\n",
       "    }\n",
       "\n",
       "    .dataframe tbody tr th {\n",
       "        vertical-align: top;\n",
       "    }\n",
       "\n",
       "    .dataframe thead th {\n",
       "        text-align: right;\n",
       "    }\n",
       "</style>\n",
       "<table border=\"1\" class=\"dataframe\">\n",
       "  <thead>\n",
       "    <tr style=\"text-align: right;\">\n",
       "      <th></th>\n",
       "      <th>Treinamento</th>\n",
       "    </tr>\n",
       "  </thead>\n",
       "  <tbody>\n",
       "    <tr>\n",
       "      <td>7</td>\n",
       "      <td>@rodrigo_rhr @nubank @bradesco aff, pistola es...</td>\n",
       "    </tr>\n",
       "    <tr>\n",
       "      <td>8</td>\n",
       "      <td>app da digo é uma bosta, mil vezes nubank</td>\n",
       "    </tr>\n",
       "    <tr>\n",
       "      <td>11</td>\n",
       "      <td>@newspotgabs @nubank so queria que me dessem l...</td>\n",
       "    </tr>\n",
       "    <tr>\n",
       "      <td>12</td>\n",
       "      <td>@vitorswu @nubank @bradesco nossa direto os ca...</td>\n",
       "    </tr>\n",
       "    <tr>\n",
       "      <td>14</td>\n",
       "      <td>chegou o meu cartão da nubank aaaaa 😍😍</td>\n",
       "    </tr>\n",
       "    <tr>\n",
       "      <td>...</td>\n",
       "      <td>...</td>\n",
       "    </tr>\n",
       "    <tr>\n",
       "      <td>289</td>\n",
       "      <td>@nubank poderia rolar um aumento de comemoraçã...</td>\n",
       "    </tr>\n",
       "    <tr>\n",
       "      <td>292</td>\n",
       "      <td>@rodrigo_rhr @nubank @bradesco pow, comecei co...</td>\n",
       "    </tr>\n",
       "    <tr>\n",
       "      <td>293</td>\n",
       "      <td>meu cartão da nubank chegou 🙌🙌🙌</td>\n",
       "    </tr>\n",
       "    <tr>\n",
       "      <td>297</td>\n",
       "      <td>aff meu nubank novo é mt lindo</td>\n",
       "    </tr>\n",
       "    <tr>\n",
       "      <td>299</td>\n",
       "      <td>@nubank o que custa me aceitar no crédito? htt...</td>\n",
       "    </tr>\n",
       "  </tbody>\n",
       "</table>\n",
       "<p>64 rows × 1 columns</p>\n",
       "</div>"
      ],
      "text/plain": [
       "                                           Treinamento\n",
       "7    @rodrigo_rhr @nubank @bradesco aff, pistola es...\n",
       "8            app da digo é uma bosta, mil vezes nubank\n",
       "11   @newspotgabs @nubank so queria que me dessem l...\n",
       "12   @vitorswu @nubank @bradesco nossa direto os ca...\n",
       "14              chegou o meu cartão da nubank aaaaa 😍😍\n",
       "..                                                 ...\n",
       "289  @nubank poderia rolar um aumento de comemoraçã...\n",
       "292  @rodrigo_rhr @nubank @bradesco pow, comecei co...\n",
       "293                    meu cartão da nubank chegou 🙌🙌🙌\n",
       "297                     aff meu nubank novo é mt lindo\n",
       "299  @nubank o que custa me aceitar no crédito? htt...\n",
       "\n",
       "[64 rows x 1 columns]"
      ]
     },
     "execution_count": 240,
     "metadata": {},
     "output_type": "execute_result"
    }
   ],
   "source": [
    "rel = dados[\"classificação\"] == \"relevante\"\n",
    "relevantes = dados.loc[rel,[\"Treinamento\"]].copy()\n",
    "relevantes"
   ]
  },
  {
   "cell_type": "markdown",
   "metadata": {},
   "source": [
    "lista_relevante= relevantes[\"Treinamento\"].tolist()\n",
    "lista_relevante"
   ]
  },
  {
   "cell_type": "code",
   "execution_count": 241,
   "metadata": {},
   "outputs": [
    {
     "data": {
      "text/plain": [
       "'@rodrigo_rhr @nubank @bradesco aff, pistola estou kkk se eu estivesse devendo ou com score baixo até entenderia.app da digo é uma bosta, mil vezes nubank@newspotgabs @nubank so queria que me dessem limite@vitorswu @nubank @bradesco nossa direto os caras aumentam meu limite kk e olha q eu nem trabalhochegou o meu cartão da nubank aaaaa 😍😍até hj o novo cartão não chegou. quando fui perguntar a atendente da @nubank disse q não tinha nada disso registrado e q eu tinha cancelado o cartão pq não queria mais.@malualcure1 @nubank taxa 6,50 no saque pra quebrar a cara e por a frase em efeito (não existe nada perfeito nesse mundo)eu que lute pra krl pra pagar essa porra, mdssssss quero meu nubank de volta https://t.co/viz1jeeeeamomento raro pra mim: vou elogiar algo.\\nprbns pro sistema do @nubank que conseguiu detectar uma fraude no meu cartão de crédito virtual, bloquear a transação e o cartão e me avisar imediatamente. :)\\nñ é fácil definir meu padrão de compras, ainda mais com 3 pessoas utilizando...mais um mês pagando o nubank adiantado e ele me negando aumento de limite 👀@nubank libere meu limite, eu tenho pessoas pra pagar@kkkraivick @_kikilim até que eu faria isso \\nmas primeiro preciso de um cartão. \\n@nubank não colaboraum mês atrás tentaram fazer uma compra com @nubank, q foi negada pq não tinha saldo suficiente. ainda assim foram 2 dias e 4 atendentes até conseguir registrar com eles o q tinha acontecido. o cartão foi cancelado e disseram q em poucos dias chegaria outro. (continua)@otaviotuita @nubank nunca aumentam meu limite. eu pago smp o valor do total da fatura e smp adiantado mas meu limite não aumenta em hipótese nenhuma 😔acho engraçado o uber eats me dando 100% de desconto sendo que não tem utilidade nenhuma aqui em paulinia. fico feliz e triste, igual quando a nubank liberou 50,00 de crédito pra mim, rs.finalmente me rendendo aos encantos do @nubank e criando minha conta... que nossa união seja linda e pacífica, nu 💜 https://t.co/n20mgqozf4@nubank o que que custa aumentar meu limite?@nubank tá na hora de aumentar meu limite né lindos ?preciso tirar dinheiro de uma conta\\nperguntei o valor da ted: \"sua conta não permite ted\"\\nperguntei do doc: \"22 reais\"\\nainda bem que eu tenho o @nubank 💜\\na solução foi gerar um boleto pelo nu pagar com saldo da outra conta\\nnão dá mais pra viver com as burocracias dos bancoseu tive o meu cartão clonado não sei como, mas eles resolveram tudo em menos de 24horas após eu reportar no app o problema de uma compra que eu não realizei. \\n\\njá estornaram o valor e agora só aguardando o novo cartão vir! \\n\\n@nubank é o melhor banco que existe. esse é o tweet! https://t.co/jwunqze1txpelo amor de deus @nubank aceita minha conta mano😩😩@openatti @cecbreno @nubank nem tô criando expectativas com aumento de limite mais não, fiz de tudo já e não aumentam kkkkeu todo mês quando o nubank me nega https://t.co/0jtxumnbef@nubank ja pode aumentar meu limite ne? 1 ano ja na mesma 😒nubank vai ter sempre meu coração@nubank melhor banco da vidaaaaaa, só acho que deveria ter mas opções de agência, opinião construtiva 🥰👏🏾♥️depois de três meses meu roxinho chegou😍😍😍 @nubankfico chateado com a @nubank  é que faz tempo que eu movimento minha conta lá e nunca tive problemas, daí eu solicito um aumento de limite e eles me negam, blz ok.\\nabri uma conta no bradesco exclusive e de cara eu já tenho um puta de um limite alto.\\n@nubank 0 x 1 @bradesco@marchelloms nubank não vale a pena se você usar pra saque, o saque custa quase 7 reais, mas é ótimo como crédito.\\nnext eu nunca tive, mas experiências de amigos foram ótimas.\\nmas a c6... meu amigo, é um ótimo banco.\\nnada contra o nubank, só não usaria nunca maise pelo amor de deus, melhorem a usabilidade na parte de cartão / faturas... o @nubank pisa nisso em vocês com força...@brunnocostam muda pro nubank, bem melhoralguem tem um convite do nubank pra me mandar???@ricardo_ohara @bancodobrasil venha para revolução bancaria...@bancointer e @nubank  quem sabe até um @c6bank@nubank o que mata é a taxa de saque néalô nubank, aumenta meu limite@bancointer @nubank ja cansei de entrar em contato via dm....@nubank aumenta meu limite ai meu amigo, nunca pedi nada :(será q algum dia a nubank vai aumentar o limite do meu cartão pq com 50 reais eu so gasto em chop no shopping e na subway e já era tudonubank homofóbica não me dá um cartão de crédito, que diabos vou fazer com um cartão de débito?😭😭não acredito que eu tô tendo que trocar email com @nubank enviando sempre as mesmas coisas....@icaioblack_ kkkkkkkkkk adorei a estratégia. o rendimento do nubank é ótimo, difícil é deixar dinheiro lá kkkkkkkk@nubank aumenta meu limite aí meu amigo, to agarrado em 4,2k tem quase dois anos 🤦🏻\\u200d♂️ajustei meu limite no nubank para 200 reais, obrigado por tudo @nathfinancas@kernzera @nubank nubank é lixo, vem pro inter@nubank recebi uma transferencia no valor de r$ 334,00 e quero devolver, pois com certeza fizeram errado! como faço?@intoazkabwn nada de dívidas! 💜 lembre-se que o controle financeiro depende somente de você! 😊 \\n\\nquanto à função crédito, se você teve o pedido negado, pedimos 3 meses de espera (no mínimo) antes de pedir uma nova análise. se tiver dúvidas, pode chamar a gente na dm! https://t.co/t319ekr8synubank aumentou mais meu limite e eu nem pedi kjkkkkkk pqpei @nubank tem como resolver o problema da entrega do meu cartão, que até agora nada?e cada vez mais o nubank fica aumento meu limite de créditonubank paraíso dos designers, só ideia (e execução) fodaeu fiz um nubank gente eu so mto jovemto ficando mt estressada com nubank pqp, só quero saber a minha senha@nubank podia aumentar meu limite, não está dando mais!@nubank valeu!!! ces sao demais 💜@minimesq sim, e ai?? vai aparecer quando?\\nrepare viu eu vou é começar a migrar logo pro nubank que eu faço melhor@vhsilv4 é que por aqui a gente não consegue. \\n\\nvocê já solicitou o aumento através do aplicativo? se quiser, chama a gente na dm que podemos te passar algumas dicas sobre isso. https://t.co/q1skqeuw5nnubank ja pode libera meu cartãoacabei de usar o meu roxinho pela primeira vez e agr só vou querer saber de nubank é isto@billogro @nubank anhaaaaummmm já gostei dela@nubank poderia rolar um aumento de comemoração do meu aniversário esse mês nubank😏@rodrigo_rhr @nubank @bradesco pow, comecei com 500, só que eu nunca precisei mais de 500 daí nem ligava daí precisei aumentar hj e fui negado kkkk aí abri na b.exclusive 2.500 logo de cara 🤗meu cartão da nubank chegou 🙌🙌🙌aff meu nubank novo é mt lindo@nubank o que custa me aceitar no crédito? https://t.co/wobdwvxjm9'"
      ]
     },
     "execution_count": 241,
     "metadata": {},
     "output_type": "execute_result"
    }
   ],
   "source": [
    "#criandotxt\n",
    "lista_relevante2 = ''.join(lista_relevante)\n",
    "lista_relevante2"
   ]
  },
  {
   "cell_type": "code",
   "execution_count": 242,
   "metadata": {},
   "outputs": [],
   "source": [
    "arquivo = open(\"arq.txt\",\"w\",encoding=\"utf-8-sig\")\n",
    "arquivo.write(lista_relevante2)\n",
    "arquivo.close()"
   ]
  },
  {
   "cell_type": "code",
   "execution_count": 243,
   "metadata": {},
   "outputs": [
    {
     "name": "stdout",
     "output_type": "stream",
     "text": [
      "@rodrigo_rhr @nubank @bradesco aff, pistola estou kkk se eu estivesse devendo ou com score baixo até entenderia.app da digo é uma bosta, mil vezes nubank@newspotgabs @nubank so queria que me dessem limite@vitorswu @nubank @bradesco nossa direto os caras aumentam meu limite kk e olha q eu nem trabalhochegou o meu cartão da nubank aaaaa 😍😍até hj o novo cartão não chegou. quando fui perguntar a atendente\n"
     ]
    }
   ],
   "source": [
    "#limapnado o texto:\n",
    "with open(\"arq.txt\", \"r\", encoding=\"utf-8-sig\") as arquivo_texto:\n",
    "    texto_relevante = arquivo_texto.read()\n",
    "\n",
    "# Imprime os 100 primeiros caracteres do texto para verificar se está tudo ok.\n",
    "print(texto_relevante[0:404])"
   ]
  },
  {
   "cell_type": "code",
   "execution_count": 244,
   "metadata": {},
   "outputs": [
    {
     "data": {
      "text/plain": [
       "'@rodrigo_rhr @nubank @bradesco aff  pistola estou kkk se eu estivesse devendo ou com score baixo até entenderia app da digo é uma bosta  mil vezes nubank@newspotgabs @nubank so queria que me dessem limite@vitorswu @nubank @bradesco nossa direto os caras aumentam meu limite kk e olha q eu nem trabalhochegou o meu cartão da nubank aaaaa 😍😍até hj o novo cartão não chegou  quando fui perguntar a atendente da @nubank disse q não tinha nada disso registrado e q eu tinha cancelado o cartão pq não queria mais @malualcure1 @nubank taxa 6 50 no saque pra quebrar a cara e por a frase em efeito  não existe nada perfeito nesse mundo eu que lute pra krl pra pagar essa porra  mdssssss quero meu nubank de volta  raro pra mim  vou elogiar algo \\nprbns pro sistema do @nubank que conseguiu detectar uma fraude no meu cartão de crédito virtual  bloquear a transação e o cartão e me avisar imediatamente    \\nñ é fácil definir meu padrão de compras  ainda mais com 3 pessoas utilizando   mais um mês pagando o nubank adiantado e ele me negando aumento de limite 👀@nubank libere meu limite  eu tenho pessoas pra pagar@kkkraivick @_kikilim até que eu faria isso \\nmas primeiro preciso de um cartão  \\n@nubank não colaboraum mês atrás tentaram fazer uma compra com @nubank  q foi negada pq não tinha saldo suficiente  ainda assim foram 2 dias e 4 atendentes até conseguir registrar com eles o q tinha acontecido  o cartão foi cancelado e disseram q em poucos dias chegaria outro   continua @otaviotuita @nubank nunca aumentam meu limite  eu pago smp o valor do total da fatura e smp adiantado mas meu limite não aumenta em hipótese nenhuma 😔acho engraçado o uber eats me dando 100  de desconto sendo que não tem utilidade nenhuma aqui em paulinia  fico feliz e triste  igual quando a nubank liberou 50 00 de crédito pra mim  rs finalmente me rendendo aos encantos do @nubank e criando minha conta    que nossa união seja linda e pacífica  nu 💜  o que que custa aumentar meu limite @nubank tá na hora de aumentar meu limite né lindos  preciso tirar dinheiro de uma conta\\nperguntei o valor da ted   sua conta não permite ted \\nperguntei do doc   22 reais \\nainda bem que eu tenho o @nubank 💜\\na solução foi gerar um boleto pelo nu pagar com saldo da outra conta\\nnão dá mais pra viver com as burocracias dos bancoseu tive o meu cartão clonado não sei como  mas eles resolveram tudo em menos de 24horas após eu reportar no app o problema de uma compra que eu não realizei  \\n\\njá estornaram o valor e agora só aguardando o novo cartão vir  \\n\\n@nubank é o melhor banco que existe  esse é o tweet   amor de deus @nubank aceita minha conta mano😩😩@openatti @cecbreno @nubank nem tô criando expectativas com aumento de limite mais não  fiz de tudo já e não aumentam kkkkeu todo mês quando o nubank me nega  ja pode aumentar meu limite ne  1 ano ja na mesma 😒nubank vai ter sempre meu coração@nubank melhor banco da vidaaaaaa  só acho que deveria ter mas opções de agência  opinião construtiva 🥰👏🏾♥️depois de três meses meu roxinho chegou😍😍😍 @nubankfico chateado com a @nubank  é que faz tempo que eu movimento minha conta lá e nunca tive problemas  daí eu solicito um aumento de limite e eles me negam  blz ok \\nabri uma conta no bradesco exclusive e de cara eu já tenho um puta de um limite alto \\n@nubank 0 x 1 @bradesco@marchelloms nubank não vale a pena se você usar pra saque  o saque custa quase 7 reais  mas é ótimo como crédito \\nnext eu nunca tive  mas experiências de amigos foram ótimas \\nmas a c6    meu amigo  é um ótimo banco \\nnada contra o nubank  só não usaria nunca maise pelo amor de deus  melhorem a usabilidade na parte de cartão / faturas    o @nubank pisa nisso em vocês com força   @brunnocostam muda pro nubank  bem melhoralguem tem um convite do nubank pra me mandar   @ricardo_ohara @bancodobrasil venha para revolução bancaria   @bancointer e @nubank  quem sabe até um @c6bank@nubank o que mata é a taxa de saque néalô nubank  aumenta meu limite@bancointer @nubank ja cansei de entrar em contato via dm    @nubank aumenta meu limite ai meu amigo  nunca pedi nada   será q algum dia a nubank vai aumentar o limite do meu cartão pq com 50 reais eu so gasto em chop no shopping e na subway e já era tudonubank homofóbica não me dá um cartão de crédito  que diabos vou fazer com um cartão de débito 😭😭não acredito que eu tô tendo que trocar email com @nubank enviando sempre as mesmas coisas    @icaioblack_ kkkkkkkkkk adorei a estratégia  o rendimento do nubank é ótimo  difícil é deixar dinheiro lá kkkkkkkk@nubank aumenta meu limite aí meu amigo  to agarrado em 4 2k tem quase dois anos 🤦🏻\\u200d♂️ajustei meu limite no nubank para 200 reais  obrigado por tudo @nathfinancas@kernzera @nubank nubank é lixo  vem pro inter@nubank recebi uma transferencia no valor de r  334 00 e quero devolver  pois com certeza fizeram errado  como faço @intoazkabwn nada de dívidas  💜 lembre se que o controle financeiro depende somente de você  😊 \\n\\nquanto à função crédito  se você teve o pedido negado  pedimos 3 meses de espera  no mínimo  antes de pedir uma nova análise  se tiver dúvidas  pode chamar a gente na dm   aumentou mais meu limite e eu nem pedi kjkkkkkk pqpei @nubank tem como resolver o problema da entrega do meu cartão  que até agora nada e cada vez mais o nubank fica aumento meu limite de créditonubank paraíso dos designers  só ideia  e execução  fodaeu fiz um nubank gente eu so mto jovemto ficando mt estressada com nubank pqp  só quero saber a minha senha@nubank podia aumentar meu limite  não está dando mais @nubank valeu    ces sao demais 💜@minimesq sim  e ai   vai aparecer quando \\nrepare viu eu vou é começar a migrar logo pro nubank que eu faço melhor@vhsilv4 é que por aqui a gente não consegue  \\n\\nvocê já solicitou o aumento através do aplicativo  se quiser  chama a gente na dm que podemos te passar algumas dicas sobre isso   ja pode libera meu cartãoacabei de usar o meu roxinho pela primeira vez e agr só vou querer saber de nubank é isto@billogro @nubank anhaaaaummmm já gostei dela@nubank poderia rolar um aumento de comemoração do meu aniversário esse mês nubank😏@rodrigo_rhr @nubank @bradesco pow  comecei com 500  só que eu nunca precisei mais de 500 daí nem ligava daí precisei aumentar hj e fui negado kkkk aí abri na b exclusive 2 500 logo de cara 🤗meu cartão da nubank chegou 🙌🙌🙌aff meu nubank novo é mt lindo@nubank o que custa me aceitar no crédito  '"
      ]
     },
     "execution_count": 244,
     "metadata": {},
     "output_type": "execute_result"
    }
   ],
   "source": [
    "texto_R_clean = cleanup(texto_relevante.lower())\n",
    "texto_R_clean"
   ]
  },
  {
   "cell_type": "markdown",
   "metadata": {},
   "source": [
    "___\n",
    "### Verificando a performance do Classificador\n",
    "\n",
    "Agora você deve testar o seu classificador com a base de Testes."
   ]
  },
  {
   "cell_type": "code",
   "execution_count": null,
   "metadata": {},
   "outputs": [],
   "source": []
  },
  {
   "cell_type": "code",
   "execution_count": null,
   "metadata": {},
   "outputs": [],
   "source": []
  },
  {
   "cell_type": "code",
   "execution_count": null,
   "metadata": {},
   "outputs": [],
   "source": []
  },
  {
   "cell_type": "markdown",
   "metadata": {},
   "source": [
    "___\n",
    "### Concluindo"
   ]
  },
  {
   "cell_type": "code",
   "execution_count": null,
   "metadata": {},
   "outputs": [],
   "source": []
  },
  {
   "cell_type": "code",
   "execution_count": null,
   "metadata": {},
   "outputs": [],
   "source": []
  },
  {
   "cell_type": "markdown",
   "metadata": {},
   "source": [
    "___\n",
    "## Aperfeiçoamento:\n",
    "\n",
    "Os trabalhos vão evoluir em conceito dependendo da quantidade de itens avançados:\n",
    "\n",
    "* Limpar: \\n, :, \", ', (, ), etc SEM remover emojis\n",
    "* Corrigir separação de espaços entre palavras e emojis ou entre emojis e emojis\n",
    "* Propor outras limpezas e transformações que não afetem a qualidade da informação ou classificação\n",
    "* Criar categorias intermediárias de relevância baseadas na probabilidade: ex.: muito relevante, relevante, neutro, irrelevante, muito irrelevante (3 categorias: C, mais categorias conta para B)\n",
    "* Explicar por que não posso usar o próprio classificador para gerar mais amostras de treinamento\n",
    "* Propor diferentes cenários para Naïve Bayes fora do contexto do projeto\n",
    "* Sugerir e explicar melhorias reais com indicações concretas de como implementar (indicar como fazer e indicar material de pesquisa)\n",
    "* Montar um dashboard que periodicamente realiza análise de sentimento e visualiza estes dados"
   ]
  },
  {
   "cell_type": "markdown",
   "metadata": {},
   "source": [
    "___\n",
    "## Referências"
   ]
  },
  {
   "cell_type": "markdown",
   "metadata": {},
   "source": [
    "[Naive Bayes and Text Classification](https://arxiv.org/pdf/1410.5329.pdf)  **Mais completo**\n",
    "\n",
    "[A practical explanation of a Naive Bayes Classifier](https://monkeylearn.com/blog/practical-explanation-naive-bayes-classifier/) **Mais simples**"
   ]
  },
  {
   "cell_type": "code",
   "execution_count": null,
   "metadata": {},
   "outputs": [],
   "source": []
  }
 ],
 "metadata": {
  "kernelspec": {
   "display_name": "Python 3",
   "language": "python",
   "name": "python3"
  },
  "language_info": {
   "codemirror_mode": {
    "name": "ipython",
    "version": 3
   },
   "file_extension": ".py",
   "mimetype": "text/x-python",
   "name": "python",
   "nbconvert_exporter": "python",
   "pygments_lexer": "ipython3",
   "version": "3.7.4"
  }
 },
 "nbformat": 4,
 "nbformat_minor": 4
}
